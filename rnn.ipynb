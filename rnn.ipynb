{
 "cells": [
  {
   "cell_type": "code",
   "execution_count": null,
   "metadata": {},
   "outputs": [],
   "source": [
    "# This file exists to contain all my notes and learnings on recurrent neural networks\n",
    "\n",
    "# Sources\n",
    "# Deep Learning by Ian Goodfellow\n",
    "#   Chapter 10 (Sequence Modeling: Recurrent and Recursive Nets) - https://www.deeplearningbook.org/contents/rnn.html\n",
    "# Dive into Deep Learning by Zhang et al.\n",
    "#   Chapter 9 (Recurrent Neural Networks) - https://d2l.ai/chapter_recurrent-neural-networks/index.html\n",
    "#   Chapter 10 (Modern Recurrent Neural Networks) - https://d2l.ai/chapter_recurrent-modern/index.html"
   ]
  }
 ],
 "metadata": {
  "language_info": {
   "name": "python"
  }
 },
 "nbformat": 4,
 "nbformat_minor": 2
}
