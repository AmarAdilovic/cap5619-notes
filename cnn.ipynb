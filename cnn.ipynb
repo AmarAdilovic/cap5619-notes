{
 "cells": [
  {
   "cell_type": "markdown",
   "metadata": {},
   "source": [
    "# This file exists to contain all my notes and learnings on convolution neural networks\n",
    "\n",
    "# Sources\n",
    "## Deep Learning by Ian Goodfellow\n",
    "   Chapter 9 (Convolutional Networks) - https://www.deeplearningbook.org/contents/convnets.html\n",
    "    -   Pages 326 - 366\n",
    "## Dive into Deep Learning by Zhang et al.\n",
    "   Chapter 7 (Convolutional Neural Networks) - https://d2l.ai/chapter_convolutional-neural-networks/index.html\n",
    "   Chapter 8 (Modern Convolution Neural Networks) - https://d2l.ai/chapter_convolutional-modern/index.html"
   ]
  },
  {
   "cell_type": "markdown",
   "metadata": {},
   "source": [
    "# Deep Learning - Convolutional Networks\n",
    "\n",
    "## Introduction\n",
    "- Concurrent Neural Networks (CNNs) have been very successful in practical applications.\n",
    "- The \"convolution\" in the name signifies that it employs a mathematical operation called a \"convolution\". A convolution is a specialized linear operation.\n",
    "- CNNs are just neural networks that use convolution instead of general matrix multiplication in at least ONE layer\n",
    "- Chapter Outline\n",
    "    - What is a convolution?\n",
    "    - Why use a convolution in a neural network?\n",
    "    - Pooling\n",
    "    - Convolution variants\n",
    "    - How convolutions can be applied to different data (and different data dimensions)\n",
    "    - How to make convolution more efficient\n",
    "    - History of convolutions in deep learning\n",
    "\n",
    "\n",
    "## 9.1 - The Convolution Operation\n",
    "- Convolution is an operation on two functions of a real-valued argument\n",
    "    - Example\n",
    "        - Assume you are tracking a car with a sensor, the sensor provides a single output, *x(t)*, the position of the car at time *t*.\n",
    "            - BOTH *x* and *t* are **real-valued**, we can get a different reading from the senor at any time\n",
    "            - What do we do if the sensor is noisy?\n",
    "                - We can average several measurements, more recent measurements are more relevant, so we want a weighted average that gives *more* weight to recent measurements\n",
    "                    - We can \n",
    "        - test 2\n"
   ]
  }
 ],
 "metadata": {
  "language_info": {
   "name": "python"
  }
 },
 "nbformat": 4,
 "nbformat_minor": 2
}
